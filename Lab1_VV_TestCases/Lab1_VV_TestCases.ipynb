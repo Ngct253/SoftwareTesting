{
 "cells": [
  {
   "cell_type": "markdown",
   "metadata": {},
   "source": [
    "# Lab1_VV_TestCases.ipynb\n",
    "Notebook này dùng để biên dịch và chạy chương trình C++ `test_quartic.cpp`."
   ]
  },
  {
   "cell_type": "code",
   "execution_count": 1,
   "metadata": {},
   "outputs": [],
   "source": [
    "!g++ -O2 -std=c++17 test_quartic.cpp -o test_quartic"
   ]
  },
  {
   "cell_type": "code",
   "execution_count": 2,
   "metadata": {},
   "outputs": [
    {
     "name": "stdout",
     "output_type": "stream",
     "text": [
      "Test case 1 (a=0, b=0, c=0): Infinite solutions.\n",
      "Test case 2 (a=0, b=0, c=5): No solution.\n",
      "Test case 3 (a=0, b=1, c=0): The equation has 2 real solution(s): -0 0 \n",
      "Test case 4 (a=0, b=1, c=-4): The equation has 2 real solution(s): 2 -2 \n",
      "Test case 5 (a=0, b=1, c=4): No solution.\n",
      "Test case 6 (a=1, b=0, c=1): No solution.\n",
      "Test case 7 (a=1, b=-2, c=1): The equation has 2 real solution(s): 1 -1 \n",
      "Test case 8 (a=1, b=2, c=1): No solution.\n",
      "Test case 9 (a=1, b=-5, c=4): The equation has 4 real solution(s): 2 -2 1 -1 \n"
     ]
    }
   ],
   "source": [
    "!test_quartic.exe"
   ]
  }
 ],
 "metadata": {
  "kernelspec": {
   "display_name": "Python 3",
   "language": "python",
   "name": "python3"
  },
  "language_info": {
   "codemirror_mode": {
    "name": "ipython",
    "version": 3
   },
   "file_extension": ".py",
   "mimetype": "text/x-python",
   "name": "python",
   "nbconvert_exporter": "python",
   "pygments_lexer": "ipython3",
   "version": "3.12.2"
  }
 },
 "nbformat": 4,
 "nbformat_minor": 2
}
